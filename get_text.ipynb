{
 "cells": [
  {
   "cell_type": "code",
   "execution_count": 1,
   "metadata": {},
   "outputs": [],
   "source": [
    "import csv\n",
    "import pandas as pd\n",
    "import os\n",
    "import torch\n",
    "import MeCab\n",
    "import ipadic\n",
    "import json\n",
    "from tqdm.notebook import tqdm\n"
   ]
  },
  {
   "cell_type": "code",
   "execution_count": 2,
   "metadata": {},
   "outputs": [
    {
     "data": {
      "text/plain": [
       "{'a': {'a'}, 'b': set()}"
      ]
     },
     "execution_count": 2,
     "metadata": {},
     "output_type": "execute_result"
    }
   ],
   "source": [
    "a = [\"a\",\"b\"]\n",
    "b = {k:set() for k in a}\n",
    "b[\"a\"].add(\"a\")\n",
    "b"
   ]
  },
  {
   "cell_type": "code",
   "execution_count": null,
   "metadata": {},
   "outputs": [],
   "source": [
    "def view_all_hinshi(text):\n",
    "    hinshi_set = set()\n",
    "    CHASEN_ARGS = r' -F \"%m\\t%f[7]\\t%f[6]\\t%F-[0,1,2,3]\\t%f[4]\\t%f[5]\\n\"'\n",
    "    CHASEN_ARGS += r' -U \"%m\\t%m\\t%m\\t%F-[0,1,2,3]\\t\\t\\n\"'\n",
    "    wakati = MeCab.Tagger(ipadic.MECAB_ARGS + CHASEN_ARGS)\n",
    "\n",
    "    result = wakati.parse(text).split(\"\\n\")\n",
    "    for line in result:\n",
    "        wakati_text = line.split(\"\\t\")\n",
    "        if wakati_text[0] != \"EOS\" and wakati_text[0] != \"\":\n",
    "            hinshi_set.add(wakati_text[3])\n",
    "\n",
    "    return hinshi_set\n",
    "\n",
    "def extract_hinshi(text,hishi:list):\n",
    "\n",
    "    hishi_set = {k:set() for k in hishi}\n",
    "    CHASEN_ARGS = r' -F \"%m\\t%f[7]\\t%f[6]\\t%F-[0,1,2,3]\\t%f[4]\\t%f[5]\\n\"'\n",
    "    CHASEN_ARGS += r' -U \"%m\\t%m\\t%m\\t%F-[0,1,2,3]\\t\\t\\n\"'\n",
    "    wakati = MeCab.Tagger(ipadic.MECAB_ARGS + CHASEN_ARGS)\n",
    "\n",
    "    result = wakati.parse(text).split(\"\\n\")\n",
    "    for line in result:\n",
    "        wakati_text = line.split(\"\\t\")\n",
    "        if wakati_text[0] != \"EOS\" and wakati_text[0] != \"\":\n",
    "            for k in hishi:\n",
    "                if wakati_text[3] == k:\n",
    "                    hishi_set[k].add(wakati_text[0])\n",
    "\n",
    "    return hishi_set\n"
   ]
  },
  {
   "cell_type": "code",
   "execution_count": 4,
   "metadata": {},
   "outputs": [
    {
     "data": {
      "text/plain": [
       "{'a', 'b', 'c', 'ccc'}"
      ]
     },
     "execution_count": 4,
     "metadata": {},
     "output_type": "execute_result"
    }
   ],
   "source": [
    "a = {\"a\":{\"a\",\"b\"}}\n",
    "b = {\"a\":{\"ccc\",\"c\"}}\n",
    "a[\"a\"].union(b[\"a\"])"
   ]
  },
  {
   "cell_type": "code",
   "execution_count": null,
   "metadata": {},
   "outputs": [
    {
     "data": {
      "application/vnd.jupyter.widget-view+json": {
       "model_id": "426a692287ec4e9690fa63b198fe918e",
       "version_major": 2,
       "version_minor": 0
      },
      "text/plain": [
       "file:   0%|          | 0/60 [00:00<?, ?it/s]"
      ]
     },
     "metadata": {},
     "output_type": "display_data"
    },
    {
     "data": {
      "application/vnd.jupyter.widget-view+json": {
       "model_id": "2bc8f5bc051c4a118fcd3480dbb5c911",
       "version_major": 2,
       "version_minor": 0
      },
      "text/plain": [
       "text:   0%|          | 0/772670 [00:00<?, ?it/s]"
      ]
     },
     "metadata": {},
     "output_type": "display_data"
    },
    {
     "data": {
      "application/vnd.jupyter.widget-view+json": {
       "model_id": "980dfbafcd4b436f87fa1b8642f991b6",
       "version_major": 2,
       "version_minor": 0
      },
      "text/plain": [
       "text:   0%|          | 0/802581 [00:00<?, ?it/s]"
      ]
     },
     "metadata": {},
     "output_type": "display_data"
    },
    {
     "data": {
      "application/vnd.jupyter.widget-view+json": {
       "model_id": "b6e9d070df094b4b96317d450de3e15e",
       "version_major": 2,
       "version_minor": 0
      },
      "text/plain": [
       "text:   0%|          | 0/786266 [00:00<?, ?it/s]"
      ]
     },
     "metadata": {},
     "output_type": "display_data"
    },
    {
     "data": {
      "application/vnd.jupyter.widget-view+json": {
       "model_id": "6f6b97e02d0f4a63ae2549ba349260f8",
       "version_major": 2,
       "version_minor": 0
      },
      "text/plain": [
       "text:   0%|          | 0/660946 [00:00<?, ?it/s]"
      ]
     },
     "metadata": {},
     "output_type": "display_data"
    },
    {
     "data": {
      "application/vnd.jupyter.widget-view+json": {
       "model_id": "e1b82f80b83b4899b047b6477fa6d0b9",
       "version_major": 2,
       "version_minor": 0
      },
      "text/plain": [
       "text:   0%|          | 0/2289139 [00:00<?, ?it/s]"
      ]
     },
     "metadata": {},
     "output_type": "display_data"
    },
    {
     "data": {
      "application/vnd.jupyter.widget-view+json": {
       "model_id": "256059e883614f0e9e08381fd2393128",
       "version_major": 2,
       "version_minor": 0
      },
      "text/plain": [
       "text:   0%|          | 0/821423 [00:00<?, ?it/s]"
      ]
     },
     "metadata": {},
     "output_type": "display_data"
    },
    {
     "data": {
      "application/vnd.jupyter.widget-view+json": {
       "model_id": "f8db5d90ff9043b582e00fd2e26f3bd4",
       "version_major": 2,
       "version_minor": 0
      },
      "text/plain": [
       "text:   0%|          | 0/757558 [00:00<?, ?it/s]"
      ]
     },
     "metadata": {},
     "output_type": "display_data"
    },
    {
     "data": {
      "application/vnd.jupyter.widget-view+json": {
       "model_id": "baaf4305ae8a4e519dd195415b9f9721",
       "version_major": 2,
       "version_minor": 0
      },
      "text/plain": [
       "text:   0%|          | 0/859516 [00:00<?, ?it/s]"
      ]
     },
     "metadata": {},
     "output_type": "display_data"
    },
    {
     "data": {
      "application/vnd.jupyter.widget-view+json": {
       "model_id": "c1b9b4a79e9548f7ae4c182e18b574f4",
       "version_major": 2,
       "version_minor": 0
      },
      "text/plain": [
       "text:   0%|          | 0/838356 [00:00<?, ?it/s]"
      ]
     },
     "metadata": {},
     "output_type": "display_data"
    },
    {
     "data": {
      "application/vnd.jupyter.widget-view+json": {
       "model_id": "760a64f83ea04b9ca08fa2fddf829996",
       "version_major": 2,
       "version_minor": 0
      },
      "text/plain": [
       "text:   0%|          | 0/823978 [00:00<?, ?it/s]"
      ]
     },
     "metadata": {},
     "output_type": "display_data"
    },
    {
     "data": {
      "application/vnd.jupyter.widget-view+json": {
       "model_id": "6850f58a7a3843c7997721adca7619c7",
       "version_major": 2,
       "version_minor": 0
      },
      "text/plain": [
       "text:   0%|          | 0/2341440 [00:00<?, ?it/s]"
      ]
     },
     "metadata": {},
     "output_type": "display_data"
    },
    {
     "data": {
      "application/vnd.jupyter.widget-view+json": {
       "model_id": "5a3e39882ff94dc4bbe4c561a5c99ebb",
       "version_major": 2,
       "version_minor": 0
      },
      "text/plain": [
       "text:   0%|          | 0/1120475 [00:00<?, ?it/s]"
      ]
     },
     "metadata": {},
     "output_type": "display_data"
    }
   ],
   "source": [
    "path = \"/home/hc/[NII-IDR] 楽天市場データ/review/unzip\"\n",
    "files = os.listdir(path)\n",
    "\n",
    "first_bar = tqdm(desc=\"file\", total=len(files),position=0)\n",
    "hss = [\"記号-括弧開\", \"記号-括弧閉\",\"記号-アルファベット\",\"記号-一般\",\"記号-読点\",\"記号-句点\"]\n",
    "all_hinshi = {k:set() for k in hss}\n",
    "\n",
    "for file in files:\n",
    "\n",
    "    file_path = os.path.join(path,file)\n",
    "    col = ['投稿者ID', '店舗名', '店舗ID', '商品名', '商品ID', '商品ページURL', '商品ジャンルID', '商品ジャンルIDパス', '使い道',\n",
    "                        '目的', '頻度', '評価ポイント', 'レビュータイトル', 'レビュー内容', '参考になった数', 'レビュー登録日時']\n",
    "    data = pd.read_csv(file_path,sep='\\t',quoting=csv.QUOTE_NONE,names=col)\n",
    "    data.reset_index(inplace=True)\n",
    "    text = data['レビュー内容']\n",
    "    second_bar = tqdm(desc=\"text\", total=len(text),position=1)\n",
    "    for line in text:\n",
    "        hinshi = extract_hinshi(line,hss)\n",
    "        count = 0\n",
    "        for k in hss:\n",
    "            count += len(all_hinshi[k])\n",
    "            all_hinshi[k] = all_hinshi[k].union(hinshi[k])\n",
    "        second_bar.set_postfix(hs=count)\n",
    "        second_bar.update()\n",
    "\n",
    "\n",
    "    second_bar.n = 0\n",
    "    first_bar.update()\n",
    "\n",
    "with open(\"hinshi_括号.txt\",\"w\") as fp:\n",
    "    json.dump(all_hinshi,fp)"
   ]
  },
  {
   "cell_type": "code",
   "execution_count": null,
   "metadata": {},
   "outputs": [],
   "source": [
    "data = pd.read_csv(\"0.csv\")"
   ]
  },
  {
   "cell_type": "code",
   "execution_count": 31,
   "metadata": {},
   "outputs": [
    {
     "data": {
      "text/plain": [
       "'お祝いに購入。 小さいのに重低音が素晴らしい！想像以上でした。ブラックを購入。ステレオでも聞きたくなり2台目を購入しました。2台目は自分様に。ミッドナイトブルー注文しました。'"
      ]
     },
     "execution_count": 31,
     "metadata": {},
     "output_type": "execute_result"
    }
   ],
   "source": [
    "t = data['レビュー内容'][0]\n",
    "t"
   ]
  },
  {
   "cell_type": "code",
   "execution_count": 38,
   "metadata": {},
   "outputs": [
    {
     "data": {
      "text/plain": [
       "{'助動詞',\n",
       " '助詞-係助詞',\n",
       " '助詞-副助詞',\n",
       " '助詞-格助詞-一般',\n",
       " '動詞-自立',\n",
       " '名詞-サ変接続',\n",
       " '名詞-一般',\n",
       " '名詞-接尾-一般',\n",
       " '名詞-接尾-人名',\n",
       " '名詞-接尾-助数詞',\n",
       " '名詞-数',\n",
       " '名詞-非自立-一般',\n",
       " '名詞-非自立-副詞可能',\n",
       " '形容詞-自立',\n",
       " '接頭詞-名詞接続',\n",
       " '記号-一般',\n",
       " '記号-句点'}"
      ]
     },
     "execution_count": 38,
     "metadata": {},
     "output_type": "execute_result"
    }
   ],
   "source": [
    "view_all_hinshi(t)"
   ]
  },
  {
   "cell_type": "code",
   "execution_count": 17,
   "metadata": {},
   "outputs": [
    {
     "data": {
      "text/plain": [
       "['お祝いに購入小さいのに重低音が素晴らしい想像以上でしたブラックを購入ステレオでも聞きたくなり2台目を購入しました2台目は自分様にミッドナイトブルー注文しました']"
      ]
     },
     "execution_count": 17,
     "metadata": {},
     "output_type": "execute_result"
    }
   ],
   "source": [
    "from bunkai import Bunkai\n",
    "bunkai = Bunkai()\n",
    "list(bunkai(t))"
   ]
  },
  {
   "cell_type": "code",
   "execution_count": 23,
   "metadata": {},
   "outputs": [],
   "source": [
    "import MeCab\n",
    "import ipadic\n",
    "\n",
    "CHASEN_ARGS = r' -F \"%m\\t%f[7]\\t%f[6]\\t%F-[0,1,2,3]\\t%f[4]\\t%f[5]\\n\"'\n",
    "CHASEN_ARGS += r' -U \"%m\\t%m\\t%m\\t%F-[0,1,2,3]\\t\\t\\n\"'\n",
    "wakati = MeCab.Tagger(ipadic.MECAB_ARGS + CHASEN_ARGS)\n",
    "\n"
   ]
  },
  {
   "cell_type": "code",
   "execution_count": 24,
   "metadata": {},
   "outputs": [
    {
     "data": {
      "text/plain": [
       "'お祝い\\tオイワイ\\tお祝い\\t名詞-サ変接続\\t\\t\\nに\\tニ\\tに\\t助詞-格助詞-一般\\t\\t\\n購入\\tコウニュウ\\t購入\\t名詞-サ変接続\\t\\t\\n。\\t。\\t。\\t記号-句点\\t\\t\\n小さい\\tチイサイ\\t小さい\\t形容詞-自立\\t形容詞・アウオ段\\t基本形\\nの\\tノ\\tの\\t名詞-非自立-一般\\t\\t\\nに\\tニ\\tに\\t助詞-格助詞-一般\\t\\t\\n重\\tジュウ\\t重\\t接頭詞-名詞接続\\t\\t\\n低音\\tテイオン\\t低音\\t名詞-一般\\t\\t\\nが\\tガ\\tが\\t助詞-格助詞-一般\\t\\t\\n素晴らしい\\tスバラシイ\\t素晴らしい\\t形容詞-自立\\t形容詞・イ段\\t基本形\\n！\\t！\\t！\\t記号-一般\\t\\t\\n想像\\tソウゾウ\\t想像\\t名詞-サ変接続\\t\\t\\n以上\\tイジョウ\\t以上\\t名詞-非自立-副詞可能\\t\\t\\nでし\\tデシ\\tです\\t助動詞\\t特殊・デス\\t連用形\\nた\\tタ\\tた\\t助動詞\\t特殊・タ\\t基本形\\n。\\t。\\t。\\t記号-句点\\t\\t\\nブラック\\tブラック\\tブラック\\t名詞-一般\\t\\t\\nを\\tヲ\\tを\\t助詞-格助詞-一般\\t\\t\\n購入\\tコウニュウ\\t購入\\t名詞-サ変接続\\t\\t\\n。\\t。\\t。\\t記号-句点\\t\\t\\nステレオ\\tステレオ\\tステレオ\\t名詞-一般\\t\\t\\nでも\\tデモ\\tでも\\t助詞-副助詞\\t\\t\\n聞き\\tキキ\\t聞く\\t動詞-自立\\t五段・カ行イ音便\\t連用形\\nたく\\tタク\\tたい\\t助動詞\\t特殊・タイ\\t連用テ接続\\nなり\\tナリ\\tなる\\t動詞-自立\\t五段・ラ行\\t連用形\\n2\\t2\\t2\\t名詞-数\\t\\t\\n台\\tダイ\\t台\\t名詞-接尾-助数詞\\t\\t\\n目\\tメ\\t目\\t名詞-接尾-一般\\t\\t\\nを\\tヲ\\tを\\t助詞-格助詞-一般\\t\\t\\n購入\\tコウニュウ\\t購入\\t名詞-サ変接続\\t\\t\\nし\\tシ\\tする\\t動詞-自立\\tサ変・スル\\t連用形\\nまし\\tマシ\\tます\\t助動詞\\t特殊・マス\\t連用形\\nた\\tタ\\tた\\t助動詞\\t特殊・タ\\t基本形\\n。\\t。\\t。\\t記号-句点\\t\\t\\n2\\t2\\t2\\t名詞-数\\t\\t\\n台\\tダイ\\t台\\t名詞-接尾-助数詞\\t\\t\\n目\\tメ\\t目\\t名詞-接尾-一般\\t\\t\\nは\\tハ\\tは\\t助詞-係助詞\\t\\t\\n自分\\tジブン\\t自分\\t名詞-一般\\t\\t\\n様\\tサマ\\t様\\t名詞-接尾-人名\\t\\t\\nに\\tニ\\tに\\t助詞-格助詞-一般\\t\\t\\n。\\t。\\t。\\t記号-句点\\t\\t\\nミッドナイト\\tミッドナイト\\tミッドナイト\\t名詞-一般\\t\\t\\nブルー\\tブルー\\tブルー\\t名詞-一般\\t\\t\\n注文\\tチュウモン\\t注文\\t名詞-サ変接続\\t\\t\\nし\\tシ\\tする\\t動詞-自立\\tサ変・スル\\t連用形\\nまし\\tマシ\\tます\\t助動詞\\t特殊・マス\\t連用形\\nた\\tタ\\tた\\t助動詞\\t特殊・タ\\t基本形\\n。\\t。\\t。\\t記号-句点\\t\\t\\nEOS\\n'"
      ]
     },
     "execution_count": 24,
     "metadata": {},
     "output_type": "execute_result"
    }
   ],
   "source": [
    "wakati.parse(t)"
   ]
  }
 ],
 "metadata": {
  "kernelspec": {
   "display_name": "torch",
   "language": "python",
   "name": "python3"
  },
  "language_info": {
   "codemirror_mode": {
    "name": "ipython",
    "version": 3
   },
   "file_extension": ".py",
   "mimetype": "text/x-python",
   "name": "python",
   "nbconvert_exporter": "python",
   "pygments_lexer": "ipython3",
   "version": "3.11.10"
  }
 },
 "nbformat": 4,
 "nbformat_minor": 2
}
