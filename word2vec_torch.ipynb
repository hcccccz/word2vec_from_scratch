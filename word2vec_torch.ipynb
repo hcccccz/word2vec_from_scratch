{
 "cells": [
  {
   "cell_type": "code",
   "execution_count": 2,
   "metadata": {},
   "outputs": [],
   "source": [
    "import torch\n",
    "from torch.utils.data import Dataset, DataLoader\n",
    "import torch.nn as nn\n",
    "import re\n",
    "import numpy as np\n",
    "from collections import Counter\n",
    "from tqdm.notebook import tqdm"
   ]
  },
  {
   "cell_type": "code",
   "execution_count": 3,
   "metadata": {},
   "outputs": [
    {
     "ename": "ImportError",
     "evalue": "IProgress not found. Please update jupyter and ipywidgets. See https://ipywidgets.readthedocs.io/en/stable/user_install.html",
     "output_type": "error",
     "traceback": [
      "\u001b[0;31m---------------------------------------------------------------------------\u001b[0m",
      "\u001b[0;31mImportError\u001b[0m                               Traceback (most recent call last)",
      "Cell \u001b[0;32mIn[3], line 1\u001b[0m\n\u001b[0;32m----> 1\u001b[0m \u001b[43mtqdm\u001b[49m\u001b[43m(\u001b[49m\u001b[43m)\u001b[49m\n",
      "File \u001b[0;32m~/anaconda3/envs/torch/lib/python3.11/site-packages/tqdm/notebook.py:234\u001b[0m, in \u001b[0;36mtqdm_notebook.__init__\u001b[0;34m(self, *args, **kwargs)\u001b[0m\n\u001b[1;32m    232\u001b[0m unit_scale \u001b[38;5;241m=\u001b[39m \u001b[38;5;241m1\u001b[39m \u001b[38;5;28;01mif\u001b[39;00m \u001b[38;5;28mself\u001b[39m\u001b[38;5;241m.\u001b[39munit_scale \u001b[38;5;129;01mis\u001b[39;00m \u001b[38;5;28;01mTrue\u001b[39;00m \u001b[38;5;28;01melse\u001b[39;00m \u001b[38;5;28mself\u001b[39m\u001b[38;5;241m.\u001b[39munit_scale \u001b[38;5;129;01mor\u001b[39;00m \u001b[38;5;241m1\u001b[39m\n\u001b[1;32m    233\u001b[0m total \u001b[38;5;241m=\u001b[39m \u001b[38;5;28mself\u001b[39m\u001b[38;5;241m.\u001b[39mtotal \u001b[38;5;241m*\u001b[39m unit_scale \u001b[38;5;28;01mif\u001b[39;00m \u001b[38;5;28mself\u001b[39m\u001b[38;5;241m.\u001b[39mtotal \u001b[38;5;28;01melse\u001b[39;00m \u001b[38;5;28mself\u001b[39m\u001b[38;5;241m.\u001b[39mtotal\n\u001b[0;32m--> 234\u001b[0m \u001b[38;5;28mself\u001b[39m\u001b[38;5;241m.\u001b[39mcontainer \u001b[38;5;241m=\u001b[39m \u001b[38;5;28;43mself\u001b[39;49m\u001b[38;5;241;43m.\u001b[39;49m\u001b[43mstatus_printer\u001b[49m\u001b[43m(\u001b[49m\u001b[38;5;28;43mself\u001b[39;49m\u001b[38;5;241;43m.\u001b[39;49m\u001b[43mfp\u001b[49m\u001b[43m,\u001b[49m\u001b[43m \u001b[49m\u001b[43mtotal\u001b[49m\u001b[43m,\u001b[49m\u001b[43m \u001b[49m\u001b[38;5;28;43mself\u001b[39;49m\u001b[38;5;241;43m.\u001b[39;49m\u001b[43mdesc\u001b[49m\u001b[43m,\u001b[49m\u001b[43m \u001b[49m\u001b[38;5;28;43mself\u001b[39;49m\u001b[38;5;241;43m.\u001b[39;49m\u001b[43mncols\u001b[49m\u001b[43m)\u001b[49m\n\u001b[1;32m    235\u001b[0m \u001b[38;5;28mself\u001b[39m\u001b[38;5;241m.\u001b[39mcontainer\u001b[38;5;241m.\u001b[39mpbar \u001b[38;5;241m=\u001b[39m proxy(\u001b[38;5;28mself\u001b[39m)\n\u001b[1;32m    236\u001b[0m \u001b[38;5;28mself\u001b[39m\u001b[38;5;241m.\u001b[39mdisplayed \u001b[38;5;241m=\u001b[39m \u001b[38;5;28;01mFalse\u001b[39;00m\n",
      "File \u001b[0;32m~/anaconda3/envs/torch/lib/python3.11/site-packages/tqdm/notebook.py:108\u001b[0m, in \u001b[0;36mtqdm_notebook.status_printer\u001b[0;34m(_, total, desc, ncols)\u001b[0m\n\u001b[1;32m     99\u001b[0m \u001b[38;5;66;03m# Fallback to text bar if there's no total\u001b[39;00m\n\u001b[1;32m    100\u001b[0m \u001b[38;5;66;03m# DEPRECATED: replaced with an 'info' style bar\u001b[39;00m\n\u001b[1;32m    101\u001b[0m \u001b[38;5;66;03m# if not total:\u001b[39;00m\n\u001b[0;32m   (...)\u001b[0m\n\u001b[1;32m    105\u001b[0m \n\u001b[1;32m    106\u001b[0m \u001b[38;5;66;03m# Prepare IPython progress bar\u001b[39;00m\n\u001b[1;32m    107\u001b[0m \u001b[38;5;28;01mif\u001b[39;00m IProgress \u001b[38;5;129;01mis\u001b[39;00m \u001b[38;5;28;01mNone\u001b[39;00m:  \u001b[38;5;66;03m# #187 #451 #558 #872\u001b[39;00m\n\u001b[0;32m--> 108\u001b[0m     \u001b[38;5;28;01mraise\u001b[39;00m \u001b[38;5;167;01mImportError\u001b[39;00m(WARN_NOIPYW)\n\u001b[1;32m    109\u001b[0m \u001b[38;5;28;01mif\u001b[39;00m total:\n\u001b[1;32m    110\u001b[0m     pbar \u001b[38;5;241m=\u001b[39m IProgress(\u001b[38;5;28mmin\u001b[39m\u001b[38;5;241m=\u001b[39m\u001b[38;5;241m0\u001b[39m, \u001b[38;5;28mmax\u001b[39m\u001b[38;5;241m=\u001b[39mtotal)\n",
      "\u001b[0;31mImportError\u001b[0m: IProgress not found. Please update jupyter and ipywidgets. See https://ipywidgets.readthedocs.io/en/stable/user_install.html"
     ]
    }
   ],
   "source": [
    "tqdm()"
   ]
  },
  {
   "cell_type": "code",
   "execution_count": 2,
   "metadata": {},
   "outputs": [],
   "source": [
    "def preprocess(text):\n",
    "    text = text.lower() #to lowercase\n",
    "    corpus = re.split('\\.|\\?|!', text) #split sentence\n",
    "    word_to_id = {}\n",
    "    id_to_word = {}\n",
    "\n",
    "    word_to_id[\"<end or start of sentnece>\"] = 0\n",
    "    id_to_word[0] = \"<end or start of sentnece>\"\n",
    "\n",
    "    for sentence in corpus:\n",
    "        sentence = sentence.split()\n",
    "        for word in sentence: #create word_to_id and id_to_word\n",
    "            if word not in word_to_id:\n",
    "                id = len(word_to_id)\n",
    "                word_to_id[word] = id\n",
    "                id_to_word[id] = word\n",
    "\n",
    "    for i in range(len(corpus)): #create corpus\n",
    "        corpus[i] = [word_to_id[word] for word in corpus[i].split()]\n",
    "\n",
    "    return corpus, word_to_id, id_to_word #corpus is list of list, one list represent one sentence\n",
    "\n",
    "def create_context_target(sentence:list, WINDOW_SIZE:int): #example input [5,1,2,4,6]\n",
    "    target = sentence.copy()\n",
    "    contexts = []\n",
    "    for word_index, word in enumerate(sentence):\n",
    "        context = []\n",
    "        WINDOW = sentence[max(word_index-WINDOW_SIZE,0) : min(word_index+WINDOW_SIZE+1, len(sentence))]\n",
    "\n",
    "        #assuming word index is at 3, WINDOW_SIZE is 1, then 234 is selected\n",
    "        for context_word in WINDOW:\n",
    "            if context_word != word:\n",
    "                context.append(context_word)\n",
    "        if len(context) != 2*WINDOW_SIZE+1 :\n",
    "            for i in range((2*WINDOW_SIZE) - len(context)):\n",
    "                context.append(0)\n",
    "        contexts.append(context)\n",
    "\n",
    "    return contexts, target\n"
   ]
  },
  {
   "cell_type": "code",
   "execution_count": null,
   "metadata": {},
   "outputs": [],
   "source": [
    "class UnigramSampler:\n",
    "    def __init__(self, corpus:list, power:float, sample_size:int):\n",
    "        self.sample_size = sample_size #negative sample size\n",
    "        self.vocab_size = None\n",
    "        self.word_p = None\n",
    "\n",
    "        corpus = [word for sentence in corpus for word in sentence]\n",
    "\n",
    "        count = Counter() #count word in corpus\n",
    "        for word_id in corpus:\n",
    "            count[word_id] += 1\n",
    "\n",
    "        self.vocab_size = len(count)+1\n",
    "        self.word_p = np.zeros(self.vocab_size)\n",
    "\n",
    "        for i in range(self.vocab_size):\n",
    "            self.word_p[i] = count[i] #frequency for each word\n",
    "\n",
    "        self.word_p = np.power(self.word_p, power)\n",
    "        self.word_p /= np.sum(self.word_p)\n",
    "\n",
    "    def get_negative_sample(self, target:torch.tensor):\n",
    "        batch_size = target.shape[0]\n",
    "        target = target.cpu().clone().numpy()\n",
    "        negative_sample = np.zeros((batch_size, self.sample_size),dtype=np.float32)\n",
    "\n",
    "        for i in range(batch_size):\n",
    "            p = self.word_p.copy()\n",
    "            target_idx = target[i]\n",
    "            p[target_idx] = 0\n",
    "            p /= p.sum()\n",
    "            negative_sample[i,:] = np.random.choice(self.vocab_size, self.sample_size, replace=False, p=p)\n",
    "        return torch.tensor(negative_sample,dtype=torch.int32)\n"
   ]
  },
  {
   "cell_type": "code",
   "execution_count": null,
   "metadata": {},
   "outputs": [],
   "source": [
    "class CorpusDataset(Dataset):\n",
    "    def __init__(self, WINDOW_SIZE=1):\n",
    "        super().__init__()\n",
    "        with open(\"ptb.train.txt\",\"r\") as file:\n",
    "            corpus_raw = file.read()\n",
    "        self.corpus, self.word_to_id, self.id_to_word = preprocess(corpus_raw)\n",
    "        X = []\n",
    "        y = []\n",
    "        for sentence in self.corpus:\n",
    "            contexts, target = create_context_target(sentence, WINDOW_SIZE=1)\n",
    "            X += contexts\n",
    "            y += target\n",
    "        self.X = torch.tensor(X)\n",
    "        self.y = torch.tensor(y)\n",
    "\n",
    "\n",
    "\n",
    "    def __len__(self):\n",
    "        return self.X.shape[0]\n",
    "\n",
    "    def __getitem__(self, idx):\n",
    "        return self.X[idx,:], self.y[idx]\n",
    "\n",
    "    def get_corpus(self):\n",
    "        return self.corpus\n",
    "\n",
    "    def get_vocab_size(self):\n",
    "        return len(self.word_to_id)\n"
   ]
  },
  {
   "cell_type": "code",
   "execution_count": 5,
   "metadata": {},
   "outputs": [],
   "source": [
    "# vocab_size = len(word_to_id)\n",
    "# torch.manual_seed(8)\n",
    "# embedding1 = nn.Embedding(vocab_size, 100)\n",
    "# embedding2 = nn.Embedding(vocab_size, 100)\n",
    "# x1 = torch.tensor(X[:100])\n",
    "# y1 = torch.tensor(y[:100])\n",
    "# hidden = embedding1(x1)\n",
    "# hidden_neuron = hidden.sum(axis=1)\n",
    "\n",
    "# target_W = embedding2(y1)\n",
    "\n",
    "\n",
    "# summ = torch.sum((hidden_neuron[0] * target_W[0]))\n",
    "\n",
    "# sigmoid = nn.Sigmoid()\n",
    "# loss = nn.BCELoss()\n",
    "\n",
    "# prob = sigmoid(summ)\n",
    "# print(loss(prob, torch.tensor(1,dtype=torch.float32)).item())\n",
    "# bce_loss = nn.BCEWithLogitsLoss()\n",
    "# print(bce_loss(summ,torch.tensor(1,dtype=torch.float32)).item())"
   ]
  },
  {
   "cell_type": "code",
   "execution_count": null,
   "metadata": {},
   "outputs": [],
   "source": []
  },
  {
   "cell_type": "code",
   "execution_count": null,
   "metadata": {},
   "outputs": [],
   "source": [
    "class EmbeddingDot(nn.Module):\n",
    "    def __init__(self,vocab_size, hidden_size):\n",
    "        super().__init__()\n",
    "        self.embedding = nn.Embedding(vocab_size, hidden_size)\n",
    "    def forward(self, h, idx):\n",
    "        target_W = self.embedding(idx)\n",
    "        out = torch.sum(target_W*h,axis=1)\n",
    "\n",
    "        return out\n",
    "\n",
    "class CBOW(nn.Module):\n",
    "    def __init__(self, corpus, vocab_size, embed_dim, negative_sample_size = 5):\n",
    "        super().__init__()\n",
    "        self.negative_sample_size = negative_sample_size\n",
    "        self.embedding_in = nn.Embedding(vocab_size, embed_dim)\n",
    "        self.embed_dot  = EmbeddingDot(vocab_size, embed_dim)\n",
    "        self.sampler = UnigramSampler(corpus, power=0.75, sample_size=self.negative_sample_size)\n",
    "\n",
    "\n",
    "    def forward(self, contexts:torch.tensor, target:torch.tensor, negative_sample):\n",
    "        out = {\"correct\":[], \"negative\":[]}\n",
    "\n",
    "        h = self.embedding_in(contexts)\n",
    "        window_size = h.shape[1]\n",
    "        h = h.sum(axis=1)\n",
    "        h *= 1/window_size\n",
    "        correct_out = self.embed_dot(h, target)\n",
    "        out[\"correct\"].append(correct_out)\n",
    "\n",
    "        negative_sample_size = negative_sample.shape[1]\n",
    "\n",
    "        for i in range(negative_sample_size):\n",
    "            negative_out = self.embed_dot(h, negative_sample[:,i])\n",
    "            out[\"negative\"].append(negative_out)\n",
    "\n",
    "        return out\n",
    "\n",
    "\n",
    "\n",
    "\n",
    "\n"
   ]
  },
  {
   "cell_type": "code",
   "execution_count": 7,
   "metadata": {},
   "outputs": [
    {
     "name": "stdout",
     "output_type": "stream",
     "text": [
      "890163\n"
     ]
    }
   ],
   "source": [
    "dataset = CorpusDataset()\n",
    "print(len(dataset))"
   ]
  },
  {
   "cell_type": "code",
   "execution_count": null,
   "metadata": {},
   "outputs": [
    {
     "data": {
      "application/vnd.jupyter.widget-view+json": {
       "model_id": "8c381de23930411a9ae55226af63827b",
       "version_major": 2,
       "version_minor": 0
      },
      "text/plain": [
       "epoch_bar:   0%|          | 0/100 [00:00<?, ?it/s]"
      ]
     },
     "metadata": {},
     "output_type": "display_data"
    },
    {
     "data": {
      "application/vnd.jupyter.widget-view+json": {
       "model_id": "1a504b12129146e4a40f210a0241d95a",
       "version_major": 2,
       "version_minor": 0
      },
      "text/plain": [
       "train_bar:   0%|          | 0/6954 [00:00<?, ?it/s]"
      ]
     },
     "metadata": {},
     "output_type": "display_data"
    }
   ],
   "source": [
    "epochs = 100\n",
    "learning_rate = 0.001\n",
    "negative_sample_size = 5\n",
    "device = torch.device(\"cuda\")\n",
    "dataset = CorpusDataset()\n",
    "dataloader = DataLoader(dataset=dataset, batch_size=128, drop_last=True, shuffle=True)\n",
    "\n",
    "epoch_bar = tqdm(desc=\"epoch_bar\", total=epochs, position=0)\n",
    "train_bar= tqdm(desc=\"train_bar\", total=len(dataloader), position=1)\n",
    "\n",
    "vocab_size = dataset.get_vocab_size()\n",
    "corpus = dataset.get_corpus()\n",
    "sampler = UnigramSampler(corpus, power=0.75, sample_size=negative_sample_size)\n",
    "model = CBOW(corpus, vocab_size, embed_dim=100, negative_sample_size=negative_sample_size).to(device)\n",
    "\n",
    "loss = nn.BCEWithLogitsLoss()\n",
    "optimizer = torch.optim.Adam(model.parameters(),lr=learning_rate)\n",
    "\n",
    "epoch_loss = []\n",
    "\n",
    "for epoch in range(epochs):\n",
    "    running_loss = 0.0\n",
    "    for contexts, target in dataloader:\n",
    "        contexts = contexts.to(device)\n",
    "        target = target.to(device)\n",
    "        negative_sample = sampler.get_negative_sample(target).to(device)\n",
    "        out = model(contexts,target, negative_sample)\n",
    "\n",
    "        correct_label = torch.ones(128).to(device)\n",
    "        final_loss = loss(out['correct'][0],correct_label)\n",
    "\n",
    "        negative_label = torch.zeros(128).to(device)\n",
    "        for i in range(negative_sample_size):\n",
    "            final_loss += loss(out['negative'][i], negative_label)\n",
    "\n",
    "        final_loss.backward()\n",
    "        optimizer.step()\n",
    "        optimizer.zero_grad()\n",
    "\n",
    "        train_bar.update()\n",
    "        train_bar.set_postfix(loss=final_loss.item())\n",
    "\n",
    "        running_loss += final_loss.item()\n",
    "    running_loss = running_loss / len(dataloader)\n",
    "    epoch_loss.append(running_loss)\n",
    "\n",
    "    train_bar.n = 0\n",
    "    epoch_bar.update()\n",
    "\n"
   ]
  },
  {
   "cell_type": "code",
   "execution_count": null,
   "metadata": {},
   "outputs": [
    {
     "data": {
      "text/plain": [
       "[<matplotlib.lines.Line2D at 0x7d2076da13d0>]"
      ]
     },
     "execution_count": 9,
     "metadata": {},
     "output_type": "execute_result"
    },
    {
     "data": {
      "image/png": "[encoded data removed]",
      "text/plain": [
       "<Figure size 640x480 with 1 Axes>"
      ]
     },
     "metadata": {},
     "output_type": "display_data"
    }
   ],
   "source": [
    "import matplotlib.pyplot as plt\n",
    "\n",
    "plt.plot(range(100),epoch_loss)"
   ]
  }
 ],
 "metadata": {
  "kernelspec": {
   "display_name": "torch",
   "language": "python",
   "name": "python3"
  },
  "language_info": {
   "codemirror_mode": {
    "name": "ipython",
    "version": 3
   },
   "file_extension": ".py",
   "mimetype": "text/x-python",
   "name": "python",
   "nbconvert_exporter": "python",
   "pygments_lexer": "ipython3",
   "version": "3.11.10"
  }
 },
 "nbformat": 4,
 "nbformat_minor": 2
}
