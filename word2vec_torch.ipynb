{
 "cells": [
  {
   "cell_type": "code",
   "execution_count": 7,
   "metadata": {},
   "outputs": [],
   "source": [
    "import torch\n",
    "from torch.utils.data import Dataset, DataLoader\n",
    "import torch.nn as nn\n",
    "import ptb\n",
    "import re"
   ]
  },
  {
   "cell_type": "code",
   "execution_count": 20,
   "metadata": {},
   "outputs": [
    {
     "name": "stdout",
     "output_type": "stream",
     "text": [
      "['Python', 'is', 'a', 'powerful', 'language']\n"
     ]
    }
   ],
   "source": [
    "import re\n",
    "\n",
    "text = \"Python is a powerful language\"\n",
    "words = re.split(';|,| ', text)\n",
    "print(words)"
   ]
  },
  {
   "cell_type": "code",
   "execution_count": 31,
   "metadata": {},
   "outputs": [
    {
     "data": {
      "text/plain": [
       "['He is the king', 'The king is royal', ' She is the royal queen']"
      ]
     },
     "execution_count": 31,
     "metadata": {},
     "output_type": "execute_result"
    }
   ],
   "source": [
    "corpus_raw = 'He is the king? The king is royal. She is the royal queen'\n",
    "re.split('\\.|\\? | !', corpus_raw)"
   ]
  },
  {
   "cell_type": "code",
   "execution_count": 35,
   "metadata": {},
   "outputs": [
    {
     "name": "stdout",
     "output_type": "stream",
     "text": [
      "[[0, 1, 2, 3], [2, 3, 1, 4], [5, 1, 2, 4, 6]]\n",
      "{'he': 0, 'is': 1, 'the': 2, 'king': 3, 'royal': 4, 'she': 5, 'queen': 6}\n"
     ]
    }
   ],
   "source": [
    "def preprocess(text):\n",
    "    text = text.lower() #to lowercase\n",
    "    corpus = re.split('\\.|\\?|!', text) #split sentence\n",
    "    word_to_id = {}\n",
    "    id_to_word = {}\n",
    "    for sentence in corpus:\n",
    "        sentence = sentence.split()\n",
    "        for word in sentence: #create word_to_id and id_to_word\n",
    "            if word not in word_to_id:\n",
    "                id = len(word_to_id)\n",
    "                word_to_id[word] = id\n",
    "                id_to_word[id] = word\n",
    "\n",
    "    for i in range(len(corpus)): #create corpus\n",
    "        corpus[i] = [word_to_id[word] for word in corpus[i].split()]\n",
    "\n",
    "    return corpus, word_to_id, id_to_word\n",
    "corpus, word_to_id, id_to_word = preprocess(corpus_raw)\n",
    "print(corpus)\n",
    "print(word_to_id)\n"
   ]
  }
 ],
 "metadata": {
  "kernelspec": {
   "display_name": "torch",
   "language": "python",
   "name": "python3"
  },
  "language_info": {
   "codemirror_mode": {
    "name": "ipython",
    "version": 3
   },
   "file_extension": ".py",
   "mimetype": "text/x-python",
   "name": "python",
   "nbconvert_exporter": "python",
   "pygments_lexer": "ipython3",
   "version": "3.11.10"
  }
 },
 "nbformat": 4,
 "nbformat_minor": 2
}
